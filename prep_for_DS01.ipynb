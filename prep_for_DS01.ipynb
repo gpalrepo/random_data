{
  "nbformat": 4,
  "nbformat_minor": 0,
  "metadata": {
    "colab": {
      "name": "prep_for_DS01.ipynb",
      "version": "0.3.2",
      "provenance": [],
      "include_colab_link": true
    },
    "kernelspec": {
      "name": "python3",
      "display_name": "Python 3"
    }
  },
  "cells": [
    {
      "cell_type": "markdown",
      "metadata": {
        "id": "view-in-github",
        "colab_type": "text"
      },
      "source": [
        "<a href=\"https://colab.research.google.com/github/gpalrepo/random_data/blob/master/prep_for_DS01.ipynb\" target=\"_parent\"><img src=\"https://colab.research.google.com/assets/colab-badge.svg\" alt=\"Open In Colab\"/></a>"
      ]
    },
    {
      "metadata": {
        "id": "YBoSadDZ1rKx",
        "colab_type": "code",
        "colab": {}
      },
      "cell_type": "code",
      "source": [
        ""
      ],
      "execution_count": 0,
      "outputs": []
    },
    {
      "metadata": {
        "id": "9exedB2a1vAH",
        "colab_type": "text"
      },
      "cell_type": "markdown",
      "source": [
        "**<center> <h1> Intro to Python for Data Science (NumPy and Pandas) <h1> </center> **\n",
        "\n"
      ]
    },
    {
      "metadata": {
        "id": "oXfqiur61_59",
        "colab_type": "text"
      },
      "cell_type": "markdown",
      "source": [
        "List of tasks to do:\n",
        "Explain Data Science as a field \n",
        "The important packages and how Pandas and NumPy fit in. What unique role does each package play\n",
        "Highlight what we will be building \n",
        "Explain how CoLab and Jupyter Notebooks work\n",
        "Mention in email, they will need a Google Account \n",
        "Partition the different code sections and leave appropriate blanks \n"
      ]
    },
    {
      "metadata": {
        "id": "ebsOso_F3yJD",
        "colab_type": "code",
        "colab": {}
      },
      "cell_type": "code",
      "source": [
        "#Importing packages \n",
        "import numpy as np \n",
        "import pandas as pd \n"
      ],
      "execution_count": 0,
      "outputs": []
    },
    {
      "metadata": {
        "id": "9tzl1gY34IGh",
        "colab_type": "code",
        "colab": {
          "base_uri": "https://localhost:8080/",
          "height": 714
        },
        "outputId": "b242c60b-ba85-4d99-d8c3-2b1034305624"
      },
      "cell_type": "code",
      "source": [
        "#Load dataset \n",
        "\n",
        "df = pd.read_csv(\"https://raw.githubusercontent.com/gpalrepo/inclass_practice/master/Shark%20Tank%20Companies.csv\")\n",
        "\n",
        "print(df.head())"
      ],
      "execution_count": 2,
      "outputs": [
        {
          "output_type": "stream",
          "text": [
            "    deal                                        description  episode  \\\n",
            "0  False             Bluetooth device implant for your ear.        1   \n",
            "1   True  Retail and wholesale pie factory with two reta...        1   \n",
            "2   True  Ava the Elephant is a godsend for frazzled par...        1   \n",
            "3  False  Organizing, packing, and moving services deliv...        1   \n",
            "4  False  Interactive media centers for healthcare waiti...        1   \n",
            "\n",
            "              category                entrepreneurs      location  \\\n",
            "0            Novelties               Darrin Johnson  St. Paul, MN   \n",
            "1       Specialty Food                   Tod Wilson  Somerset, NJ   \n",
            "2  Baby and Child Care              Tiffany Krumins   Atlanta, GA   \n",
            "3    Consumer Services  Nick Friedman, Omar Soliman     Tampa, FL   \n",
            "4    Consumer Services               Kevin Flannery      Cary, NC   \n",
            "\n",
            "                               website  askedFor  exchangeForStake  valuation  \\\n",
            "0                                  NaN   1000000                15    6666667   \n",
            "1                  http://whybake.com/    460000                10    4600000   \n",
            "2       http://www.avatheelephant.com/     50000                15     333333   \n",
            "3  http://collegehunkshaulingjunk.com/    250000                25    1000000   \n",
            "4              http://www.wispots.com/   1200000                10   12000000   \n",
            "\n",
            "   season            shark1           shark2         shark3        shark4  \\\n",
            "0       1  Barbara Corcoran  Robert Herjavec  Kevin O'Leary  Daymond John   \n",
            "1       1  Barbara Corcoran  Robert Herjavec  Kevin O'Leary  Daymond John   \n",
            "2       1  Barbara Corcoran  Robert Herjavec  Kevin O'Leary  Daymond John   \n",
            "3       1  Barbara Corcoran  Robert Herjavec  Kevin O'Leary  Daymond John   \n",
            "4       1  Barbara Corcoran  Robert Herjavec  Kevin O'Leary  Daymond John   \n",
            "\n",
            "             shark5                        title episode-season  \\\n",
            "0  Kevin Harrington                    Ionic Ear            1-1   \n",
            "1  Kevin Harrington        Mr. Tod's Pie Factory            1-1   \n",
            "2  Kevin Harrington             Ava the Elephant            1-1   \n",
            "3  Kevin Harrington  College Foxes Packing Boxes            1-1   \n",
            "4  Kevin Harrington                      Wispots            1-1   \n",
            "\n",
            "   Multiple Entreprenuers  \n",
            "0                   False  \n",
            "1                   False  \n",
            "2                   False  \n",
            "3                   False  \n",
            "4                   False  \n"
          ],
          "name": "stdout"
        }
      ]
    },
    {
      "metadata": {
        "id": "6TNyV70gczHp",
        "colab_type": "code",
        "outputId": "f672390a-65c5-4753-f2db-71abbe978bff",
        "colab": {
          "base_uri": "https://localhost:8080/",
          "height": 238
        }
      },
      "cell_type": "code",
      "source": [
        "#What's up with NumPy? \n",
        "#What can do with NumPy\n",
        "#What's the value it offers compared to plain Python? \n",
        "#Link to take a look to draw out points\n",
        "#Efficiency in storage of data\n",
        "#Efficiency in reshaping data\n",
        "#Efficiency in performing Mathematical operations\n",
        "'''NEED TO COME WITH A GOOD EXAMPLE HERE TO MAKE THE DATA SET MORE MEANINGFUL'''\n",
        "\n",
        "\n",
        "\n",
        "#Note that in NumPy- all the elements in the array have to be of the same datatype\n",
        "\n",
        "\n",
        "#In NumPy to form an arr\n",
        "\n",
        "list_of_floats = [3.0,4.0,3.2,1.2,3.4,5.4,5.0,3.0,43.2,3.4]\n",
        "\n",
        "#Forming an NumPy array from a list \n",
        "\n",
        "arr1 = np.array(list_of_floats, dtype='float') #dtype = 'float'/'int'/'str'\n",
        "\n",
        "print(arr1)\n",
        "\n",
        "print(type(arr1)) #Explain what an ndarray=> n dimensional array is. \n",
        "\n",
        "\n",
        "#Shape of this ndarray\n",
        "\n",
        "print(arr1.shape) #10 ROWS, No columns #How to interpret this. \n",
        "\n",
        "#Suppose we want to reshape the array to have 5 rows and 2 columns. How can that be acheived? \n",
        "\n",
        "arr1.shape = (5,2)\n",
        "\n",
        "print(arr1.shape)\n",
        "print(arr1)\n",
        "\n",
        "list2 = [3,4,4,3,2,2,4,2,3,2,2,1,0,7,6,5,4,3,3,2,2,2,2,1,2,4,5,2,2,2]\n",
        "\n",
        "arr2 = np.array(list2,dtype='int')\n",
        "\n",
        "print(arr2.shape)\n",
        "\n",
        "# arr2.shape = (2,15)\n",
        "\n",
        "arr2_reshaped1 = np.reshape(arr2,(2,15)) #The -1 feature in reshaping is super neat! \n",
        "\n",
        "#How does -1 work in NumPy. With -1 Python decides the -1 dimension \n",
        "\n",
        "#So np.reshape(arr2,(2,15)) and (arr2,(2,-1)) are equivalent \n",
        "\n",
        "print(arr2)\n",
        "print(arr2_reshaped1)\n",
        "\n",
        "# arr2_reshaped2 = np.reshape(arr2, (2,3,-1))\n",
        "\n",
        "# print(arr2_reshaped2)\n",
        "\n",
        "\n",
        "\n",
        "\n"
      ],
      "execution_count": 3,
      "outputs": [
        {
          "output_type": "stream",
          "text": [
            "[ 3.   4.   3.2  1.2  3.4  5.4  5.   3.  43.2  3.4]\n",
            "<class 'numpy.ndarray'>\n",
            "(10,)\n",
            "(5, 2)\n",
            "[[ 3.   4. ]\n",
            " [ 3.2  1.2]\n",
            " [ 3.4  5.4]\n",
            " [ 5.   3. ]\n",
            " [43.2  3.4]]\n",
            "(30,)\n",
            "[3 4 4 3 2 2 4 2 3 2 2 1 0 7 6 5 4 3 3 2 2 2 2 1 2 4 5 2 2 2]\n",
            "[[3 4 4 3 2 2 4 2 3 2 2 1 0 7 6]\n",
            " [5 4 3 3 2 2 2 2 1 2 4 5 2 2 2]]\n"
          ],
          "name": "stdout"
        }
      ]
    },
    {
      "metadata": {
        "id": "YG4d_Et2vtda",
        "colab_type": "code",
        "colab": {
          "base_uri": "https://localhost:8080/",
          "height": 51
        },
        "outputId": "d447de68-e2d5-4ca8-c405-7fc68a097be5"
      },
      "cell_type": "code",
      "source": [
        "#Part I: Basic Array Operations using NumPy\n",
        "\n",
        "list_one = [1,2,3]\n",
        "\n",
        "array_one = np.array(list_one) \n",
        "\n",
        "\n",
        "\n",
        "print(array_one[2])\n",
        "print(array_one.size)\n"
      ],
      "execution_count": 4,
      "outputs": [
        {
          "output_type": "stream",
          "text": [
            "3\n",
            "3\n"
          ],
          "name": "stdout"
        }
      ]
    },
    {
      "metadata": {
        "id": "sDlUGOxF1e6Y",
        "colab_type": "text"
      },
      "cell_type": "markdown",
      "source": [
        "Approach could be. A little bit of NumPy and a lot more time for Pandas. How can I make the NumPy part (20mins) exciting? "
      ]
    },
    {
      "metadata": {
        "id": "ne6ZCljm1eiP",
        "colab_type": "code",
        "colab": {
          "base_uri": "https://localhost:8080/",
          "height": 34
        },
        "outputId": "12affe21-f282-4243-a154-2ae88f7539bd"
      },
      "cell_type": "code",
      "source": [
        "print (df['askedFor'].median())\n"
      ],
      "execution_count": 7,
      "outputs": [
        {
          "output_type": "stream",
          "text": [
            "150000.0\n"
          ],
          "name": "stdout"
        }
      ]
    },
    {
      "metadata": {
        "id": "HCE4YxvbzsuM",
        "colab_type": "code",
        "colab": {
          "base_uri": "https://localhost:8080/",
          "height": 102
        },
        "outputId": "923d12fb-4e54-4874-afdd-8ebc59be4ed1"
      },
      "cell_type": "code",
      "source": [
        "#START\n",
        "\n",
        "#We we will be learning NumPy and Pandas\n",
        "#At a high-level, what NumPy does? Allows for mathematical operations to performed on data quickly and conveniently\n",
        "#What does Pandas today? \n",
        "\n",
        "#How are going to spend time today? Spend about 15-20 mins on NumPy. The syntax of NumPy comes in handy for other \n",
        "#Packages like Pandas because these packages are built on top of NumPy. \n",
        "\n",
        "\n",
        "#So why do we even need NumPy when we have lists \n",
        "\n",
        "#Suppose, we you run a large business for which we have three years of data. The data might be potentially stored\n",
        "#in a list like below. \n",
        "\n",
        "rev_list = [300,350,450,550,320,340,440,580]\n",
        "\n",
        "\n",
        "cost_list = [250,280,320,360,280,270,340,400]\n",
        "\n",
        "#We run into a problem \n",
        "\n",
        "#Suppose, you want to calculate the profit. Which is Revenue - Costs. \n",
        "\n",
        "#We can't do the following\n",
        "\n",
        "# profit_list = rev_list - cost_list \n",
        "\n",
        "#We could technically use a list comprehension \n",
        "# profit_list = [ rev-cost for rev,cost in zip(rev_list, cost_list)]\n",
        "# print(profit_list) \n",
        "#But this is still inconvenient.\n",
        "#This is where NumPy comes in handy. \n",
        "\n",
        "#So first we need to create a NumPy ARRAY!\n",
        "\n",
        "rev_array = np.array(rev_list)\n",
        "\n",
        "print(type(rev_array)) #So we are working with n-dimensional arrays \n",
        "\n",
        "cost_array = np.array(cost_list) \n",
        "\n",
        "profit_array = (rev_array - cost_array) #Profits\n",
        "\n",
        "profit_percent_array = profit_array / rev_array *100\n",
        "\n",
        "\n",
        "print(profit_percent_array) #This isn't a finance class. But this is called the profit margin. \n",
        "\n",
        "\n",
        "#Suppose you want to know the years in which the profit margin was greater than 20 %\n",
        "\n",
        "print (profit_percent_array >20)\n",
        "\n",
        "#So we get an array of boolean values\n",
        "\n",
        "#We can print the specific values \n",
        "\n",
        "print(profit_percent_array[profit_percent_array > 20])\n",
        "\n",
        "\n",
        "#Teach things like how to reshape data. Maybe have it has 4 quarters and have 2 years worth of data. \n",
        "\n"
      ],
      "execution_count": 25,
      "outputs": [
        {
          "output_type": "stream",
          "text": [
            "<class 'numpy.ndarray'>\n",
            "[16.66666667 20.         28.88888889 34.54545455 12.5        20.58823529\n",
            " 22.72727273 31.03448276]\n",
            "[False False  True  True False  True  True  True]\n",
            "[28.88888889 34.54545455 20.58823529 22.72727273 31.03448276]\n"
          ],
          "name": "stdout"
        }
      ]
    },
    {
      "metadata": {
        "id": "RxuS1TBi4e0l",
        "colab_type": "code",
        "colab": {}
      },
      "cell_type": "code",
      "source": [
        ""
      ],
      "execution_count": 0,
      "outputs": []
    }
  ]
}